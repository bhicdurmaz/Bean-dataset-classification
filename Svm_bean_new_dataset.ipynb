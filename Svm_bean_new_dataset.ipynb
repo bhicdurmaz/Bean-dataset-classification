{
 "cells": [
  {
   "cell_type": "code",
   "execution_count": 3,
   "id": "a055b29c",
   "metadata": {},
   "outputs": [
    {
     "name": "stdout",
     "output_type": "stream",
     "text": [
      "Requirement already satisfied: imbalanced-learn==0.6.0 in /Users/mumin/opt/anaconda3/lib/python3.9/site-packages (0.6.0)\n",
      "Requirement already satisfied: numpy>=1.11 in /Users/mumin/opt/anaconda3/lib/python3.9/site-packages (from imbalanced-learn==0.6.0) (1.21.5)\n",
      "Requirement already satisfied: scipy>=0.17 in /Users/mumin/opt/anaconda3/lib/python3.9/site-packages (from imbalanced-learn==0.6.0) (1.9.1)\n",
      "Requirement already satisfied: scikit-learn>=0.22 in /Users/mumin/opt/anaconda3/lib/python3.9/site-packages (from imbalanced-learn==0.6.0) (1.0.2)\n",
      "Requirement already satisfied: joblib>=0.11 in /Users/mumin/opt/anaconda3/lib/python3.9/site-packages (from imbalanced-learn==0.6.0) (1.1.0)\n",
      "Requirement already satisfied: threadpoolctl>=2.0.0 in /Users/mumin/opt/anaconda3/lib/python3.9/site-packages (from scikit-learn>=0.22->imbalanced-learn==0.6.0) (2.2.0)\n",
      "Before OverSampling, counts of label '1': 0\n",
      "Before OverSampling, counts of label '0': 0 \n",
      "\n",
      "After OverSampling, the shape of train_X: (19677, 2)\n",
      "After OverSampling, the shape of train_y: (19677,) \n",
      "\n",
      "After OverSampling, counts of label '1': 0\n",
      "After OverSampling, counts of label '0': 0\n",
      "[[189   0  53   0   1   2  10]\n",
      " [  0  92   0   0   0   0   0]\n",
      " [ 45   0 294   0   6   1   4]\n",
      " [  0   0   0 666   2  12  55]\n",
      " [  0   0  10   2 362   0  16]\n",
      " [  0   0   0   1   0 357  18]\n",
      " [  0   0   2  46   6  10 461]]\n"
     ]
    },
    {
     "data": {
      "text/plain": [
       "0.889092912229159"
      ]
     },
     "execution_count": 3,
     "metadata": {},
     "output_type": "execute_result"
    }
   ],
   "source": [
    "import numpy as np\n",
    "import matplotlib.pyplot as plt\n",
    "import pandas as pd\n",
    "!pip install imbalanced-learn==0.6.0\n",
    "\n",
    "from imblearn.over_sampling import SMOTE\n",
    "\n",
    "\n",
    "dataset = pd.read_excel(\"Dataset.xlsx\")\n",
    "\n",
    "X = dataset[['Perimeter' , 'Compactness']]\n",
    "y = dataset.Class \n",
    "\n",
    "\n",
    "\n",
    "from sklearn.model_selection import train_test_split\n",
    "XTrain, XTest, yTrain, yTest = train_test_split(X, y, test_size = 0.2, random_state = 0)\n",
    "\n",
    "\n",
    "from sklearn.preprocessing import StandardScaler\n",
    "sc = StandardScaler()\n",
    "XTrain = sc.fit_transform(XTrain)\n",
    "XTest = sc.transform(XTest)\n",
    "\n",
    "\n",
    "print(\"Before OverSampling, counts of label '1': {}\".format(sum(yTrain == 1)))\n",
    "print(\"Before OverSampling, counts of label '0': {} \\n\".format(sum(yTrain == 0)))\n",
    "\n",
    "\n",
    "# import SMOTE module from imblearn library\n",
    "# pip install imblearn (if you don't have imblearn in your system)\n",
    "from imblearn.over_sampling import SMOTE\n",
    "sm = SMOTE(random_state = 2)\n",
    "X_train_res, y_train_res = sm.fit_resample(XTrain, yTrain.ravel())\n",
    "\n",
    "\n",
    "print('After OverSampling, the shape of train_X: {}'.format(X_train_res.shape))\n",
    "print('After OverSampling, the shape of train_y: {} \\n'.format(y_train_res.shape))\n",
    "\n",
    "\n",
    "print(\"After OverSampling, counts of label '1': {}\".format(sum(y_train_res == 1)))\n",
    "print(\"After OverSampling, counts of label '0': {}\".format(sum(y_train_res == 0)))\n",
    "\n",
    "\n",
    "# training the kernel SVM model\n",
    "from sklearn.svm import SVC # import SVC model\n",
    "classifier = SVC(kernel = 'rbf', random_state = 0) # creat model's object\n",
    "classifier.fit(X_train_res, y_train_res) # fits the model to the training data\n",
    "\n",
    "\n",
    "# predicting the test set \n",
    "y_predict = classifier.predict(XTest)\n",
    "\n",
    "\n",
    "from sklearn.metrics import confusion_matrix, accuracy_score\n",
    "con_matrx = confusion_matrix(yTest, y_predict)\n",
    "print(con_matrx)\n",
    "accuracy_score(yTest, y_predict) \n"
   ]
  },
  {
   "cell_type": "code",
   "execution_count": 11,
   "id": "96dd2df6",
   "metadata": {},
   "outputs": [
    {
     "name": "stdout",
     "output_type": "stream",
     "text": [
      "[[10  0]\n",
      " [10  0]]\n"
     ]
    },
    {
     "name": "stderr",
     "output_type": "stream",
     "text": [
      "/Users/mumin/opt/anaconda3/lib/python3.9/site-packages/sklearn/base.py:443: UserWarning: X has feature names, but SVC was fitted without feature names\n",
      "  warnings.warn(\n"
     ]
    },
    {
     "data": {
      "text/plain": [
       "0.5"
      ]
     },
     "execution_count": 11,
     "metadata": {},
     "output_type": "execute_result"
    }
   ],
   "source": [
    "data = pd.read_excel(\"Kitap2.xlsx\")\n",
    "x = data[['Perimeter' , 'Compactness']]\n",
    "Y = data.Class \n",
    "\n",
    "from imblearn.over_sampling import SMOTE\n",
    "sm = SMOTE(random_state = 2)\n",
    "x, Y = sm.fit_resample(x, Y.ravel())\n",
    "\n",
    "# predicting the test set \n",
    "y_predict = classifier.predict(x)\n",
    "\n",
    "\n",
    "from sklearn.metrics import confusion_matrix, accuracy_score\n",
    "con_matrx = confusion_matrix(Y, y_predict)\n",
    "print(con_matrx)\n",
    "accuracy_score(Y, y_predict) "
   ]
  },
  {
   "cell_type": "code",
   "execution_count": null,
   "id": "9e52aaf2",
   "metadata": {},
   "outputs": [],
   "source": []
  }
 ],
 "metadata": {
  "kernelspec": {
   "display_name": "Python 3 (ipykernel)",
   "language": "python",
   "name": "python3"
  },
  "language_info": {
   "codemirror_mode": {
    "name": "ipython",
    "version": 3
   },
   "file_extension": ".py",
   "mimetype": "text/x-python",
   "name": "python",
   "nbconvert_exporter": "python",
   "pygments_lexer": "ipython3",
   "version": "3.9.13"
  }
 },
 "nbformat": 4,
 "nbformat_minor": 5
}
